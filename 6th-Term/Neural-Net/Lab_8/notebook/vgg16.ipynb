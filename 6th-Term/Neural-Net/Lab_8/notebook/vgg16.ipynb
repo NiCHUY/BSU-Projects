{
 "cells": [
  {
   "cell_type": "code",
   "execution_count": 1,
   "id": "95f2d43f2567860f",
   "metadata": {
    "ExecuteTime": {
     "end_time": "2024-04-18T20:22:39.341800Z",
     "start_time": "2024-04-18T20:22:39.337117Z"
    }
   },
   "outputs": [],
   "source": [
    "from keras.applications.vgg16 import VGG16\n",
    "\n",
    "from keras.preprocessing import image\n",
    "\n",
    "from keras.applications.vgg16 import preprocess_input, decode_predictions\n",
    "\n",
    "from keras.models import load_model\n",
    "\n",
    "import numpy as np"
   ]
  },
  {
   "cell_type": "code",
   "execution_count": 3,
   "id": "b6d088c1c58d8ca2",
   "metadata": {
    "ExecuteTime": {
     "end_time": "2024-04-18T20:21:52.387914Z",
     "start_time": "2024-04-18T20:20:49.239084Z"
    }
   },
   "outputs": [
    {
     "name": "stdout",
     "output_type": "stream",
     "text": [
      "Downloading data from https://storage.googleapis.com/tensorflow/keras-applications/vgg16/vgg16_weights_tf_dim_ordering_tf_kernels.h5\n",
      "\u001b[1m553467096/553467096\u001b[0m \u001b[32m━━━━━━━━━━━━━━━━━━━━\u001b[0m\u001b[37m\u001b[0m \u001b[1m53s\u001b[0m 0us/step\n"
     ]
    }
   ],
   "source": [
    "model = VGG16(weights='imagenet')"
   ]
  },
  {
   "cell_type": "code",
   "execution_count": 5,
   "id": "b76f560e03a206d0",
   "metadata": {
    "ExecuteTime": {
     "end_time": "2024-04-18T20:23:42.579165Z",
     "start_time": "2024-04-18T20:23:41.402934Z"
    }
   },
   "outputs": [],
   "source": [
    "model.save('D:/BSU-Projects/6th-Term/Neural-Net/Lab_8/models/vgg16.keras')"
   ]
  },
  {
   "cell_type": "code",
   "execution_count": 6,
   "id": "7ae5970f6d1df15c",
   "metadata": {
    "ExecuteTime": {
     "end_time": "2024-04-18T20:24:02.387083Z",
     "start_time": "2024-04-18T20:23:59.228637Z"
    }
   },
   "outputs": [],
   "source": [
    "model = load_model('D:/BSU-Projects/6th-Term/Neural-Net/Lab_8/models/vgg16.keras')"
   ]
  },
  {
   "cell_type": "code",
   "execution_count": 7,
   "id": "6b12bb23aac0d951",
   "metadata": {
    "ExecuteTime": {
     "end_time": "2024-04-18T20:24:56.473535Z",
     "start_time": "2024-04-18T20:24:56.447843Z"
    }
   },
   "outputs": [],
   "source": [
    "img = image.load_img('D:/BSU-Projects/6th-Term/Neural-Net/Lab_8/data/велосипед.jpg', target_size=(224, 224))\n",
    "\n",
    "x = image.img_to_array(img)\n",
    "\n",
    "x = np.expand_dims(x, axis=0)\n",
    "\n",
    "x = preprocess_input(x)"
   ]
  },
  {
   "cell_type": "code",
   "execution_count": 8,
   "id": "1d4c338157b2f81",
   "metadata": {
    "ExecuteTime": {
     "end_time": "2024-04-18T20:25:37.592833Z",
     "start_time": "2024-04-18T20:25:37.258623Z"
    }
   },
   "outputs": [
    {
     "name": "stdout",
     "output_type": "stream",
     "text": [
      "\u001b[1m1/1\u001b[0m \u001b[32m━━━━━━━━━━━━━━━━━━━━\u001b[0m\u001b[37m\u001b[0m \u001b[1m1s\u001b[0m 590ms/step\n"
     ]
    }
   ],
   "source": [
    "preds = model.predict(x)"
   ]
  },
  {
   "cell_type": "code",
   "execution_count": 9,
   "id": "7553ec54f4004a7d",
   "metadata": {
    "ExecuteTime": {
     "end_time": "2024-04-18T20:25:41.228979Z",
     "start_time": "2024-04-18T20:25:40.864093Z"
    }
   },
   "outputs": [
    {
     "name": "stdout",
     "output_type": "stream",
     "text": [
      "Результаты распознавания: [('n03792782', 'mountain_bike', 0.98983544), ('n03127747', 'crash_helmet', 0.0035361182), ('n09193705', 'alp', 0.0027626941)]\n"
     ]
    }
   ],
   "source": [
    "print('Результаты распознавания:', decode_predictions(preds, top=3)[0])"
   ]
  }
 ],
 "metadata": {
  "kernelspec": {
   "display_name": "Python 3",
   "language": "python",
   "name": "python3"
  },
  "language_info": {
   "codemirror_mode": {
    "name": "ipython",
    "version": 3
   },
   "file_extension": ".py",
   "mimetype": "text/x-python",
   "name": "python",
   "nbconvert_exporter": "python",
   "pygments_lexer": "ipython3",
   "version": "3.9.13"
  }
 },
 "nbformat": 4,
 "nbformat_minor": 5
}
